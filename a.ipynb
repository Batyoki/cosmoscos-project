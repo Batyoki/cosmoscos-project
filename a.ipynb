{
 "cells": [
  {
   "cell_type": "code",
   "execution_count": null,
   "metadata": {},
   "outputs": [],
   "source": [
    "from astropy.io import fits\n",
    "bonus=fits.open('bonus_image_1.fits')\n",
    "bonus.info()\n",
    "print(bonus)\n",
    "\n",
    "k=bonus[0].data\n",
    "import matplotlib.pyplot as plt\n",
    "plt.figure()\n",
    "plt.imshow(k, origin='lower')\n",
    "plt.show()\n",
    "\n",
    "plt.imshow(k, origin='lower',cmap='gray')\n",
    "plt.show()\n",
    "\n",
    "k3=bonus[1].data\n",
    "\n",
    "import matplotlib.pyplot as plt\n",
    "plt.show()\n",
    "print(k3)\n",
    "\n",
    "h=bonus[1].data.columns\n",
    "print(h)"
   ]
  }
 ],
 "metadata": {
  "kernelspec": {
   "display_name": "Python 3",
   "language": "python",
   "name": "python3"
  },
  "language_info": {
   "codemirror_mode": {
    "name": "ipython",
    "version": 3
   },
   "file_extension": ".py",
   "mimetype": "text/x-python",
   "name": "python",
   "nbconvert_exporter": "python",
   "pygments_lexer": "ipython3",
   "version": "3.12.0"
  }
 },
 "nbformat": 4,
 "nbformat_minor": 2
}
