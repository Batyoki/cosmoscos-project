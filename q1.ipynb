{
 "cells": [
  {
   "cell_type": "code",
   "execution_count": null,
   "metadata": {},
   "outputs": [],
   "source": [
    "from astropy.io import fits\n",
    "lc=fits.open('lightcurve_1.fits')\n",
    "lc.info()\n",
    "print(lc)\n",
    "#task1"
   ]
  },
  {
   "cell_type": "code",
   "execution_count": null,
   "metadata": {},
   "outputs": [],
   "source": [
    "#task2\n",
    "k=lc[1].data.columns\n",
    "print(k)"
   ]
  },
  {
   "cell_type": "code",
   "execution_count": null,
   "metadata": {},
   "outputs": [],
   "source": [
    "from astropy.io import fits\n",
    "import matplotlib.pyplot as plt\n",
    "hdulist = fits.open('lightcurve_1.fits')\n",
    "pdc_sap_flux = hdulist[1].data['PDCSAP_FLUX']\n",
    "time=hdulist[1].data['Time']\n",
    "\n",
    "plt.figure(figsize=(10,4))\n",
    "plt.plot(time,pdc_sap_flux, 'b.')\n",
    "plt.title('PDCSAP Flux')\n",
    "plt.xlabel(\"Time\")\n",
    "plt.ylabel(\"Flux\")\n",
    "plt.show()\n",
    "\n",
    "hdulist.close()"
   ]
  },
  {
   "cell_type": "code",
   "execution_count": null,
   "metadata": {},
   "outputs": [],
   "source": []
  },
  {
   "cell_type": "code",
   "execution_count": null,
   "metadata": {},
   "outputs": [],
   "source": [
    "#task3\n",
    "\n",
    "from astropy.io import fits\n",
    "import matplotlib.pyplot as plt\n",
    "\n",
    "hdulist = fits.open('lightcurve_1.fits')\n",
    "\n",
    "pdc_sap_flux = hdulist[1].data['PDCSAP_FLUX']\n",
    "\n",
    "sap_quality=hdulist[1].data['PDCSAP_FLUX']\n",
    "\n",
    "time=hdulist[1].data['Time']\n",
    "\n",
    "#filter data \n",
    "pdc_sap_flux_filtered = pdc_sap_flux[sap_quality>0]\n",
    "time_filtered = time[sap_quality>0]\n",
    "\n",
    "#plot\n",
    "plt.figure(figsize=(10,4))\n",
    "plt.plot(time,pdc_sap_flux, 'r.',label='All Data')\n",
    "plt.plot(time_filtered,pdc_sap_flux_filtered, 'c',label='sap_quality>0')\n",
    "plt.title('PDCSAP Flux')\n",
    "plt.xlabel(\"Time\")\n",
    "plt.ylabel(\"Flux\")\n",
    "plt.show()\n",
    "\n",
    "hdulist.close()"
   ]
  },
  {
   "cell_type": "code",
   "execution_count": null,
   "metadata": {},
   "outputs": [],
   "source": [
    "#task4\n",
    "\n",
    "from astropy.io import fits\n",
    "import matplotlib.pyplot as plt\n",
    "import numpy as np\n",
    "\n",
    "hdulist = fits.open('lightcurve_1.fits')\n",
    "\n",
    "image_data=hdulist[2].data\n",
    "hdulist.close()\n",
    "#image_data = image_data.astype(int)\n",
    "\n",
    "plt.figure(figsize=(8,8))\n",
    "plt.imshow(image_data, cmap='gray', origin='lower', interpolation='none')\n",
    "plt.colorbar()\n",
    "plt.title('fits image data')\n",
    "plt.show()\n",
    "\n",
    "plt.imshow(image_data, cmap='plasma', origin='lower', interpolation='none')\n",
    "plt.colorbar()\n",
    "plt.title('fits image data')\n",
    "plt.show()\n",
    "\n",
    "px=np.ndarray(shape=(7,7), dtype=float)\n",
    "plt.imshow(px,cmap='plasma')\n",
    "plt.show()\n",
    "\n"
   ]
  }
 ],
 "metadata": {
  "kernelspec": {
   "display_name": "Python 3",
   "language": "python",
   "name": "python3"
  },
  "language_info": {
   "codemirror_mode": {
    "name": "ipython",
    "version": 3
   },
   "file_extension": ".py",
   "mimetype": "text/x-python",
   "name": "python",
   "nbconvert_exporter": "python",
   "pygments_lexer": "ipython3",
   "version": "3.12.0"
  }
 },
 "nbformat": 4,
 "nbformat_minor": 2
}
